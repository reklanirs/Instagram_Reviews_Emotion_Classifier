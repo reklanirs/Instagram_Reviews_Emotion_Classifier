{
  "nbformat": 4,
  "nbformat_minor": 0,
  "metadata": {
    "colab": {
      "name": "Instagram Positive Negative.ipynb",
      "provenance": [],
      "include_colab_link": true
    },
    "kernelspec": {
      "name": "python3",
      "display_name": "Python 3"
    },
    "language_info": {
      "name": "python"
    },
    "accelerator": "GPU"
  },
  "cells": [
    {
      "cell_type": "markdown",
      "metadata": {
        "id": "view-in-github",
        "colab_type": "text"
      },
      "source": [
        "<a href=\"https://colab.research.google.com/github/reklanirs/Instagram_Reviews_Emotion_Classifier/blob/main/Instagram_Positive_Negative.ipynb\" target=\"_parent\"><img src=\"https://colab.research.google.com/assets/colab-badge.svg\" alt=\"Open In Colab\"/></a>"
      ]
    },
    {
      "cell_type": "code",
      "metadata": {
        "colab": {
          "base_uri": "https://localhost:8080/"
        },
        "id": "Tx6ll8shnv1T",
        "outputId": "6393841c-8836-45a7-ab91-bf4e0d09ec52"
      },
      "source": [
        "!pip install -q tensorflow-text\n",
        "!pip install -q tf-models-official"
      ],
      "execution_count": null,
      "outputs": [
        {
          "output_type": "stream",
          "text": [
            "\u001b[K     |████████████████████████████████| 3.4MB 18.1MB/s \n",
            "\u001b[K     |████████████████████████████████| 1.1MB 18.9MB/s \n",
            "\u001b[K     |████████████████████████████████| 51kB 8.0MB/s \n",
            "\u001b[K     |████████████████████████████████| 37.6MB 71kB/s \n",
            "\u001b[K     |████████████████████████████████| 645kB 40.3MB/s \n",
            "\u001b[K     |████████████████████████████████| 174kB 35.6MB/s \n",
            "\u001b[K     |████████████████████████████████| 358kB 56.5MB/s \n",
            "\u001b[K     |████████████████████████████████| 706kB 57.3MB/s \n",
            "\u001b[K     |████████████████████████████████| 102kB 13.7MB/s \n",
            "\u001b[K     |████████████████████████████████| 1.2MB 46.4MB/s \n",
            "\u001b[?25h  Building wheel for seqeval (setup.py) ... \u001b[?25l\u001b[?25hdone\n",
            "  Building wheel for py-cpuinfo (setup.py) ... \u001b[?25l\u001b[?25hdone\n"
          ],
          "name": "stdout"
        }
      ]
    },
    {
      "cell_type": "code",
      "metadata": {
        "id": "cwwOlOZ1sJ82"
      },
      "source": [
        ""
      ],
      "execution_count": null,
      "outputs": []
    },
    {
      "cell_type": "code",
      "metadata": {
        "id": "7SNEVEkTofmc"
      },
      "source": [
        "import os\n",
        "import shutil\n",
        "\n",
        "import tensorflow as tf\n",
        "import tensorflow_hub as hub\n",
        "import tensorflow_text as text\n",
        "from official.nlp import optimization  # to create AdamW optmizer\n",
        "\n",
        "import matplotlib.pyplot as plt\n",
        "tf.get_logger().setLevel('ERROR')"
      ],
      "execution_count": null,
      "outputs": []
    },
    {
      "cell_type": "code",
      "metadata": {
        "colab": {
          "base_uri": "https://localhost:8080/"
        },
        "id": "tVvhgJK1ozCW",
        "outputId": "ec00562d-afa3-4320-af8c-f9efa2e5ef94"
      },
      "source": [
        "url = 'https://ai.stanford.edu/~amaas/data/sentiment/aclImdb_v1.tar.gz'\n",
        "dataset = tf.keras.utils.get_file('aclImdb_v1.tar.gz', url,\n",
        "                                  untar=True, cache_dir='.',\n",
        "                                  cache_subdir='')\n",
        "\n",
        "dataset_dir = os.path.join(os.path.dirname(dataset), 'aclImdb')\n",
        "\n",
        "train_dir = os.path.join(dataset_dir, 'train')\n",
        "remove_dir = os.path.join(train_dir, 'unsup')\n",
        "shutil.rmtree(remove_dir)"
      ],
      "execution_count": null,
      "outputs": [
        {
          "output_type": "stream",
          "text": [
            "Downloading data from https://ai.stanford.edu/~amaas/data/sentiment/aclImdb_v1.tar.gz\n",
            "84131840/84125825 [==============================] - 3s 0us/step\n"
          ],
          "name": "stdout"
        }
      ]
    },
    {
      "cell_type": "code",
      "metadata": {
        "colab": {
          "base_uri": "https://localhost:8080/"
        },
        "id": "zdVeUwTvpBhr",
        "outputId": "6fe564a3-8674-4bfc-8992-d5fe67666755"
      },
      "source": [
        "AUTOTUNE = tf.data.AUTOTUNE\n",
        "batch_size = 32\n",
        "seed = 42\n",
        "\n",
        "raw_train_ds = tf.keras.preprocessing.text_dataset_from_directory(\n",
        "    'aclImdb/train',\n",
        "    batch_size=batch_size,\n",
        "    validation_split=0.2,\n",
        "    subset='training',\n",
        "    seed=seed)\n",
        "\n",
        "class_names = raw_train_ds.class_names\n",
        "train_ds = raw_train_ds.cache().prefetch(buffer_size=AUTOTUNE)\n",
        "\n",
        "val_ds = tf.keras.preprocessing.text_dataset_from_directory(\n",
        "    'aclImdb/train',\n",
        "    batch_size=batch_size,\n",
        "    validation_split=0.2,\n",
        "    subset='validation',\n",
        "    seed=seed)\n",
        "\n",
        "val_ds = val_ds.cache().prefetch(buffer_size=AUTOTUNE)\n",
        "\n",
        "test_ds = tf.keras.preprocessing.text_dataset_from_directory(\n",
        "    'aclImdb/test',\n",
        "    batch_size=batch_size)\n",
        "\n",
        "test_ds = test_ds.cache().prefetch(buffer_size=AUTOTUNE)"
      ],
      "execution_count": null,
      "outputs": [
        {
          "output_type": "stream",
          "text": [
            "Found 25000 files belonging to 2 classes.\n",
            "Using 20000 files for training.\n",
            "Found 25000 files belonging to 2 classes.\n",
            "Using 5000 files for validation.\n",
            "Found 25000 files belonging to 2 classes.\n"
          ],
          "name": "stdout"
        }
      ]
    },
    {
      "cell_type": "code",
      "metadata": {
        "colab": {
          "base_uri": "https://localhost:8080/"
        },
        "id": "4mLYbsh-pSFP",
        "outputId": "535f3844-e17f-41c5-9ee1-7e4cbd6a402b"
      },
      "source": [
        "for text_batch, label_batch in train_ds.take(1):\n",
        "  for i in range(3):\n",
        "    print(f'Review: {text_batch.numpy()[i]}')\n",
        "    label = label_batch.numpy()[i]\n",
        "    print(f'Label : {label} ({class_names[label]})')"
      ],
      "execution_count": null,
      "outputs": [
        {
          "output_type": "stream",
          "text": [
            "Review: b'\"Pandemonium\" is a horror movie spoof that comes off more stupid than funny. Believe me when I tell you, I love comedies. Especially comedy spoofs. \"Airplane\", \"The Naked Gun\" trilogy, \"Blazing Saddles\", \"High Anxiety\", and \"Spaceballs\" are some of my favorite comedies that spoof a particular genre. \"Pandemonium\" is not up there with those films. Most of the scenes in this movie had me sitting there in stunned silence because the movie wasn\\'t all that funny. There are a few laughs in the film, but when you watch a comedy, you expect to laugh a lot more than a few times and that\\'s all this film has going for it. Geez, \"Scream\" had more laughs than this film and that was more of a horror film. How bizarre is that?<br /><br />*1/2 (out of four)'\n",
            "Label : 0 (neg)\n",
            "Review: b\"David Mamet is a very interesting and a very un-equal director. His first movie 'House of Games' was the one I liked best, and it set a series of films with characters whose perspective of life changes as they get into complicated situations, and so does the perspective of the viewer.<br /><br />So is 'Homicide' which from the title tries to set the mind of the viewer to the usual crime drama. The principal characters are two cops, one Jewish and one Irish who deal with a racially charged area. The murder of an old Jewish shop owner who proves to be an ancient veteran of the Israeli Independence war triggers the Jewish identity in the mind and heart of the Jewish detective.<br /><br />This is were the flaws of the film are the more obvious. The process of awakening is theatrical and hard to believe, the group of Jewish militants is operatic, and the way the detective eventually walks to the final violent confrontation is pathetic. The end of the film itself is Mamet-like smart, but disappoints from a human emotional perspective.<br /><br />Joe Mantegna and William Macy give strong performances, but the flaws of the story are too evident to be easily compensated.\"\n",
            "Label : 0 (neg)\n",
            "Review: b'Great documentary about the lives of NY firefighters during the worst terrorist attack of all time.. That reason alone is why this should be a must see collectors item.. What shocked me was not only the attacks, but the\"High Fat Diet\" and physical appearance of some of these firefighters. I think a lot of Doctors would agree with me that,in the physical shape they were in, some of these firefighters would NOT of made it to the 79th floor carrying over 60 lbs of gear. Having said that i now have a greater respect for firefighters and i realize becoming a firefighter is a life altering job. The French have a history of making great documentary\\'s and that is what this is, a Great Documentary.....'\n",
            "Label : 1 (pos)\n"
          ],
          "name": "stdout"
        }
      ]
    },
    {
      "cell_type": "code",
      "metadata": {
        "colab": {
          "base_uri": "https://localhost:8080/"
        },
        "id": "gS_p_sf8sxEe",
        "outputId": "c11458fb-d358-41ae-f347-378b32778018"
      },
      "source": [
        "bert_model_name = 'albert_en_base' \n",
        "\n",
        "map_name_to_handle = {\n",
        "    'bert_en_uncased_L-12_H-768_A-12':\n",
        "        'https://tfhub.dev/tensorflow/bert_en_uncased_L-12_H-768_A-12/3',\n",
        "    'bert_en_cased_L-12_H-768_A-12':\n",
        "        'https://tfhub.dev/tensorflow/bert_en_cased_L-12_H-768_A-12/3',\n",
        "    'bert_multi_cased_L-12_H-768_A-12':\n",
        "        'https://tfhub.dev/tensorflow/bert_multi_cased_L-12_H-768_A-12/3',\n",
        "    'small_bert/bert_en_uncased_L-2_H-128_A-2':\n",
        "        'https://tfhub.dev/tensorflow/small_bert/bert_en_uncased_L-2_H-128_A-2/1',\n",
        "    'small_bert/bert_en_uncased_L-2_H-256_A-4':\n",
        "        'https://tfhub.dev/tensorflow/small_bert/bert_en_uncased_L-2_H-256_A-4/1',\n",
        "    'small_bert/bert_en_uncased_L-2_H-512_A-8':\n",
        "        'https://tfhub.dev/tensorflow/small_bert/bert_en_uncased_L-2_H-512_A-8/1',\n",
        "    'small_bert/bert_en_uncased_L-2_H-768_A-12':\n",
        "        'https://tfhub.dev/tensorflow/small_bert/bert_en_uncased_L-2_H-768_A-12/1',\n",
        "    'small_bert/bert_en_uncased_L-4_H-128_A-2':\n",
        "        'https://tfhub.dev/tensorflow/small_bert/bert_en_uncased_L-4_H-128_A-2/1',\n",
        "    'small_bert/bert_en_uncased_L-4_H-256_A-4':\n",
        "        'https://tfhub.dev/tensorflow/small_bert/bert_en_uncased_L-4_H-256_A-4/1',\n",
        "    'small_bert/bert_en_uncased_L-4_H-512_A-8':\n",
        "        'https://tfhub.dev/tensorflow/small_bert/bert_en_uncased_L-4_H-512_A-8/1',\n",
        "    'small_bert/bert_en_uncased_L-4_H-768_A-12':\n",
        "        'https://tfhub.dev/tensorflow/small_bert/bert_en_uncased_L-4_H-768_A-12/1',\n",
        "    'small_bert/bert_en_uncased_L-6_H-128_A-2':\n",
        "        'https://tfhub.dev/tensorflow/small_bert/bert_en_uncased_L-6_H-128_A-2/1',\n",
        "    'small_bert/bert_en_uncased_L-6_H-256_A-4':\n",
        "        'https://tfhub.dev/tensorflow/small_bert/bert_en_uncased_L-6_H-256_A-4/1',\n",
        "    'small_bert/bert_en_uncased_L-6_H-512_A-8':\n",
        "        'https://tfhub.dev/tensorflow/small_bert/bert_en_uncased_L-6_H-512_A-8/1',\n",
        "    'small_bert/bert_en_uncased_L-6_H-768_A-12':\n",
        "        'https://tfhub.dev/tensorflow/small_bert/bert_en_uncased_L-6_H-768_A-12/1',\n",
        "    'small_bert/bert_en_uncased_L-8_H-128_A-2':\n",
        "        'https://tfhub.dev/tensorflow/small_bert/bert_en_uncased_L-8_H-128_A-2/1',\n",
        "    'small_bert/bert_en_uncased_L-8_H-256_A-4':\n",
        "        'https://tfhub.dev/tensorflow/small_bert/bert_en_uncased_L-8_H-256_A-4/1',\n",
        "    'small_bert/bert_en_uncased_L-8_H-512_A-8':\n",
        "        'https://tfhub.dev/tensorflow/small_bert/bert_en_uncased_L-8_H-512_A-8/1',\n",
        "    'small_bert/bert_en_uncased_L-8_H-768_A-12':\n",
        "        'https://tfhub.dev/tensorflow/small_bert/bert_en_uncased_L-8_H-768_A-12/1',\n",
        "    'small_bert/bert_en_uncased_L-10_H-128_A-2':\n",
        "        'https://tfhub.dev/tensorflow/small_bert/bert_en_uncased_L-10_H-128_A-2/1',\n",
        "    'small_bert/bert_en_uncased_L-10_H-256_A-4':\n",
        "        'https://tfhub.dev/tensorflow/small_bert/bert_en_uncased_L-10_H-256_A-4/1',\n",
        "    'small_bert/bert_en_uncased_L-10_H-512_A-8':\n",
        "        'https://tfhub.dev/tensorflow/small_bert/bert_en_uncased_L-10_H-512_A-8/1',\n",
        "    'small_bert/bert_en_uncased_L-10_H-768_A-12':\n",
        "        'https://tfhub.dev/tensorflow/small_bert/bert_en_uncased_L-10_H-768_A-12/1',\n",
        "    'small_bert/bert_en_uncased_L-12_H-128_A-2':\n",
        "        'https://tfhub.dev/tensorflow/small_bert/bert_en_uncased_L-12_H-128_A-2/1',\n",
        "    'small_bert/bert_en_uncased_L-12_H-256_A-4':\n",
        "        'https://tfhub.dev/tensorflow/small_bert/bert_en_uncased_L-12_H-256_A-4/1',\n",
        "    'small_bert/bert_en_uncased_L-12_H-512_A-8':\n",
        "        'https://tfhub.dev/tensorflow/small_bert/bert_en_uncased_L-12_H-512_A-8/1',\n",
        "    'small_bert/bert_en_uncased_L-12_H-768_A-12':\n",
        "        'https://tfhub.dev/tensorflow/small_bert/bert_en_uncased_L-12_H-768_A-12/1',\n",
        "    'albert_en_base':\n",
        "        'https://tfhub.dev/tensorflow/albert_en_base/2',\n",
        "    'electra_small':\n",
        "        'https://tfhub.dev/google/electra_small/2',\n",
        "    'electra_base':\n",
        "        'https://tfhub.dev/google/electra_base/2',\n",
        "    'experts_pubmed':\n",
        "        'https://tfhub.dev/google/experts/bert/pubmed/2',\n",
        "    'experts_wiki_books':\n",
        "        'https://tfhub.dev/google/experts/bert/wiki_books/2',\n",
        "    'talking-heads_base':\n",
        "        'https://tfhub.dev/tensorflow/talkheads_ggelu_bert_en_base/1',\n",
        "}\n",
        "\n",
        "map_model_to_preprocess = {\n",
        "    'bert_en_uncased_L-12_H-768_A-12':\n",
        "        'https://tfhub.dev/tensorflow/bert_en_uncased_preprocess/3',\n",
        "    'bert_en_cased_L-12_H-768_A-12':\n",
        "        'https://tfhub.dev/tensorflow/bert_en_cased_preprocess/3',\n",
        "    'small_bert/bert_en_uncased_L-2_H-128_A-2':\n",
        "        'https://tfhub.dev/tensorflow/bert_en_uncased_preprocess/3',\n",
        "    'small_bert/bert_en_uncased_L-2_H-256_A-4':\n",
        "        'https://tfhub.dev/tensorflow/bert_en_uncased_preprocess/3',\n",
        "    'small_bert/bert_en_uncased_L-2_H-512_A-8':\n",
        "        'https://tfhub.dev/tensorflow/bert_en_uncased_preprocess/3',\n",
        "    'small_bert/bert_en_uncased_L-2_H-768_A-12':\n",
        "        'https://tfhub.dev/tensorflow/bert_en_uncased_preprocess/3',\n",
        "    'small_bert/bert_en_uncased_L-4_H-128_A-2':\n",
        "        'https://tfhub.dev/tensorflow/bert_en_uncased_preprocess/3',\n",
        "    'small_bert/bert_en_uncased_L-4_H-256_A-4':\n",
        "        'https://tfhub.dev/tensorflow/bert_en_uncased_preprocess/3',\n",
        "    'small_bert/bert_en_uncased_L-4_H-512_A-8':\n",
        "        'https://tfhub.dev/tensorflow/bert_en_uncased_preprocess/3',\n",
        "    'small_bert/bert_en_uncased_L-4_H-768_A-12':\n",
        "        'https://tfhub.dev/tensorflow/bert_en_uncased_preprocess/3',\n",
        "    'small_bert/bert_en_uncased_L-6_H-128_A-2':\n",
        "        'https://tfhub.dev/tensorflow/bert_en_uncased_preprocess/3',\n",
        "    'small_bert/bert_en_uncased_L-6_H-256_A-4':\n",
        "        'https://tfhub.dev/tensorflow/bert_en_uncased_preprocess/3',\n",
        "    'small_bert/bert_en_uncased_L-6_H-512_A-8':\n",
        "        'https://tfhub.dev/tensorflow/bert_en_uncased_preprocess/3',\n",
        "    'small_bert/bert_en_uncased_L-6_H-768_A-12':\n",
        "        'https://tfhub.dev/tensorflow/bert_en_uncased_preprocess/3',\n",
        "    'small_bert/bert_en_uncased_L-8_H-128_A-2':\n",
        "        'https://tfhub.dev/tensorflow/bert_en_uncased_preprocess/3',\n",
        "    'small_bert/bert_en_uncased_L-8_H-256_A-4':\n",
        "        'https://tfhub.dev/tensorflow/bert_en_uncased_preprocess/3',\n",
        "    'small_bert/bert_en_uncased_L-8_H-512_A-8':\n",
        "        'https://tfhub.dev/tensorflow/bert_en_uncased_preprocess/3',\n",
        "    'small_bert/bert_en_uncased_L-8_H-768_A-12':\n",
        "        'https://tfhub.dev/tensorflow/bert_en_uncased_preprocess/3',\n",
        "    'small_bert/bert_en_uncased_L-10_H-128_A-2':\n",
        "        'https://tfhub.dev/tensorflow/bert_en_uncased_preprocess/3',\n",
        "    'small_bert/bert_en_uncased_L-10_H-256_A-4':\n",
        "        'https://tfhub.dev/tensorflow/bert_en_uncased_preprocess/3',\n",
        "    'small_bert/bert_en_uncased_L-10_H-512_A-8':\n",
        "        'https://tfhub.dev/tensorflow/bert_en_uncased_preprocess/3',\n",
        "    'small_bert/bert_en_uncased_L-10_H-768_A-12':\n",
        "        'https://tfhub.dev/tensorflow/bert_en_uncased_preprocess/3',\n",
        "    'small_bert/bert_en_uncased_L-12_H-128_A-2':\n",
        "        'https://tfhub.dev/tensorflow/bert_en_uncased_preprocess/3',\n",
        "    'small_bert/bert_en_uncased_L-12_H-256_A-4':\n",
        "        'https://tfhub.dev/tensorflow/bert_en_uncased_preprocess/3',\n",
        "    'small_bert/bert_en_uncased_L-12_H-512_A-8':\n",
        "        'https://tfhub.dev/tensorflow/bert_en_uncased_preprocess/3',\n",
        "    'small_bert/bert_en_uncased_L-12_H-768_A-12':\n",
        "        'https://tfhub.dev/tensorflow/bert_en_uncased_preprocess/3',\n",
        "    'bert_multi_cased_L-12_H-768_A-12':\n",
        "        'https://tfhub.dev/tensorflow/bert_multi_cased_preprocess/3',\n",
        "    'albert_en_base':\n",
        "        'https://tfhub.dev/tensorflow/albert_en_preprocess/3',\n",
        "    'electra_small':\n",
        "        'https://tfhub.dev/tensorflow/bert_en_uncased_preprocess/3',\n",
        "    'electra_base':\n",
        "        'https://tfhub.dev/tensorflow/bert_en_uncased_preprocess/3',\n",
        "    'experts_pubmed':\n",
        "        'https://tfhub.dev/tensorflow/bert_en_uncased_preprocess/3',\n",
        "    'experts_wiki_books':\n",
        "        'https://tfhub.dev/tensorflow/bert_en_uncased_preprocess/3',\n",
        "    'talking-heads_base':\n",
        "        'https://tfhub.dev/tensorflow/bert_en_uncased_preprocess/3',\n",
        "}\n",
        "\n",
        "tfhub_handle_encoder = map_name_to_handle[bert_model_name]\n",
        "tfhub_handle_preprocess = map_model_to_preprocess[bert_model_name]\n",
        "\n",
        "print(f'BERT model selected           : {tfhub_handle_encoder}')\n",
        "print(f'Preprocess model auto-selected: {tfhub_handle_preprocess}')"
      ],
      "execution_count": null,
      "outputs": [
        {
          "output_type": "stream",
          "text": [
            "BERT model selected           : https://tfhub.dev/tensorflow/albert_en_base/2\n",
            "Preprocess model auto-selected: https://tfhub.dev/tensorflow/albert_en_preprocess/3\n"
          ],
          "name": "stdout"
        }
      ]
    },
    {
      "cell_type": "code",
      "metadata": {
        "id": "TLvmq1WmuM-2"
      },
      "source": [
        "bert_preprocess_model = hub.KerasLayer(tfhub_handle_preprocess)\n",
        "bert_model = hub.KerasLayer(tfhub_handle_encoder)"
      ],
      "execution_count": null,
      "outputs": []
    },
    {
      "cell_type": "code",
      "metadata": {
        "colab": {
          "base_uri": "https://localhost:8080/"
        },
        "id": "0FkZ0TN-uTCr",
        "outputId": "2e1db58c-08c2-4599-b1a5-f7ef3617d46b"
      },
      "source": [
        "text_test = ['this is such an amazing movie!']\n",
        "text_preprocessed = bert_preprocess_model(text_test)\n",
        "\n",
        "print(f'Keys       : {list(text_preprocessed.keys())}')\n",
        "print(f'Shape      : {text_preprocessed[\"input_word_ids\"].shape}')\n",
        "print(f'Word Ids   : {text_preprocessed[\"input_word_ids\"][0, :12]}')\n",
        "print(f'Input Mask : {text_preprocessed[\"input_mask\"][0, :12]}')\n",
        "print(f'Type Ids   : {text_preprocessed[\"input_type_ids\"][0, :12]}')"
      ],
      "execution_count": null,
      "outputs": [
        {
          "output_type": "stream",
          "text": [
            "Keys       : ['input_word_ids', 'input_mask', 'input_type_ids']\n",
            "Shape      : (1, 128)\n",
            "Word Ids   : [   2   48   25  145   40 5289 1308  187    3    0    0    0]\n",
            "Input Mask : [1 1 1 1 1 1 1 1 1 0 0 0]\n",
            "Type Ids   : [0 0 0 0 0 0 0 0 0 0 0 0]\n"
          ],
          "name": "stdout"
        }
      ]
    },
    {
      "cell_type": "code",
      "metadata": {
        "colab": {
          "base_uri": "https://localhost:8080/"
        },
        "id": "nhAwzFQJup8q",
        "outputId": "813b1dab-162a-4144-c73e-3afe64e348a1"
      },
      "source": [
        "bert_results = bert_model(text_preprocessed)\n",
        "\n",
        "print(f'Loaded BERT: {tfhub_handle_encoder}')\n",
        "print(f'Pooled Outputs Shape:{bert_results[\"pooled_output\"].shape}')\n",
        "print(f'Pooled Outputs Values:{bert_results[\"pooled_output\"][0, :12]}')\n",
        "print(f'Sequence Outputs Shape:{bert_results[\"sequence_output\"].shape}')\n",
        "print(f'Sequence Outputs Values:{bert_results[\"sequence_output\"][0, :12]}')"
      ],
      "execution_count": null,
      "outputs": [
        {
          "output_type": "stream",
          "text": [
            "Loaded BERT: https://tfhub.dev/tensorflow/albert_en_base/2\n",
            "Pooled Outputs Shape:(1, 768)\n",
            "Pooled Outputs Values:[ 0.5642009  -0.58338153  0.89203125 -0.88340575 -0.5900787  -0.97489256\n",
            "  0.59733707 -0.565075    0.6582608  -0.999905    0.92247003  0.5789065 ]\n",
            "Sequence Outputs Shape:(1, 128, 768)\n",
            "Sequence Outputs Values:[[ 0.9379119   0.28509057 -0.37701207 ...  0.19407773 -1.1221735\n",
            "   0.5021104 ]\n",
            " [ 1.6732261  -1.259339    0.98551273 ... -0.03488621  2.440246\n",
            "  -1.4151798 ]\n",
            " [ 1.5726185  -0.7276678  -0.61325175 ...  1.1369412  -0.24407259\n",
            "  -0.20238948]\n",
            " ...\n",
            " [ 0.46375355  0.78065187 -0.00772711 ...  0.36924443  0.9916427\n",
            "  -1.1032648 ]\n",
            " [ 0.44642958  0.8588988   0.020445   ...  0.4076947   1.0863223\n",
            "  -1.0217936 ]\n",
            " [ 0.46782312  0.8818837   0.02625137 ...  0.4404548   1.1098762\n",
            "  -1.0167123 ]]\n"
          ],
          "name": "stdout"
        }
      ]
    },
    {
      "cell_type": "code",
      "metadata": {
        "id": "QVRQWFQSxTtG"
      },
      "source": [
        "def build_classifier_model():\n",
        "  text_input = tf.keras.layers.Input(shape=(), dtype=tf.string, name='text')\n",
        "  preprocessing_layer = hub.KerasLayer(tfhub_handle_preprocess, name='preprocessing')\n",
        "  encoder_inputs = preprocessing_layer(text_input)\n",
        "  encoder = hub.KerasLayer(tfhub_handle_encoder, trainable=True, name='BERT_encoder')\n",
        "  outputs = encoder(encoder_inputs)\n",
        "  net = outputs['pooled_output']\n",
        "  net = tf.keras.layers.Dropout(0.1)(net)\n",
        "  net = tf.keras.layers.Dense(1, activation=None, name='classifier')(net)\n",
        "  return tf.keras.Model(text_input, net)"
      ],
      "execution_count": null,
      "outputs": []
    },
    {
      "cell_type": "code",
      "metadata": {
        "colab": {
          "base_uri": "https://localhost:8080/"
        },
        "id": "UIsABNN9xWe2",
        "outputId": "6682200c-554e-4008-a315-05ba140a50b6"
      },
      "source": [
        "classifier_model = build_classifier_model()\n",
        "bert_raw_result = classifier_model(tf.constant(text_test))\n",
        "print(tf.sigmoid(bert_raw_result))"
      ],
      "execution_count": null,
      "outputs": [
        {
          "output_type": "stream",
          "text": [
            "tf.Tensor([[0.33691]], shape=(1, 1), dtype=float32)\n"
          ],
          "name": "stdout"
        }
      ]
    },
    {
      "cell_type": "code",
      "metadata": {
        "id": "S13aqxBLyVGz"
      },
      "source": [
        "loss = tf.keras.losses.BinaryCrossentropy(from_logits=True)\n",
        "metrics = tf.metrics.BinaryAccuracy()"
      ],
      "execution_count": null,
      "outputs": []
    },
    {
      "cell_type": "code",
      "metadata": {
        "id": "NJRu21Qxya0M"
      },
      "source": [
        "epochs = 5\n",
        "steps_per_epoch = tf.data.experimental.cardinality(train_ds).numpy()\n",
        "num_train_steps = steps_per_epoch * epochs\n",
        "num_warmup_steps = int(0.1*num_train_steps)\n",
        "\n",
        "init_lr = 2e-5\n",
        "optimizer = optimization.create_optimizer(init_lr=init_lr,\n",
        "                                          num_train_steps=num_train_steps,\n",
        "                                          num_warmup_steps=num_warmup_steps,\n",
        "                                          optimizer_type='adamw')\n",
        "\n",
        "checkpoint_path = \"saved/training/cp-{epoch:04d}.ckpt\"\n",
        "checkpoint_dir = os.path.dirname(checkpoint_path)\n",
        "cp_callback = tf.keras.callbacks.ModelCheckpoint(\n",
        "    filepath=checkpoint_path, \n",
        "    verbose=1, \n",
        "    save_weights_only=True,\n",
        "    save_freq=1*batch_size)"
      ],
      "execution_count": null,
      "outputs": []
    },
    {
      "cell_type": "code",
      "metadata": {
        "id": "hBUeWn1h11tg"
      },
      "source": [
        "classifier_model.compile(optimizer=optimizer,\n",
        "                         loss=loss,\n",
        "                         metrics=metrics)"
      ],
      "execution_count": null,
      "outputs": []
    },
    {
      "cell_type": "code",
      "metadata": {
        "colab": {
          "base_uri": "https://localhost:8080/"
        },
        "id": "ZCB1LpAg16Fy",
        "outputId": "425f3d30-b3fb-4c01-c691-f9418eb7bdb3"
      },
      "source": [
        "print(f'Training model with {tfhub_handle_encoder}')\n",
        "history = classifier_model.fit(x=train_ds,\n",
        "                               validation_data=val_ds,\n",
        "                               batch_size=batch_size,\n",
        "                               epochs=epochs,\n",
        "                               callbacks=[cp_callback])"
      ],
      "execution_count": null,
      "outputs": [
        {
          "output_type": "stream",
          "text": [
            "Training model with https://tfhub.dev/tensorflow/albert_en_base/2\n",
            "Epoch 1/5\n",
            " 32/625 [>.............................] - ETA: 12:38 - loss: 0.7083 - binary_accuracy: 0.5343\n",
            "Epoch 00001: saving model to saved/training/cp-0001.ckpt\n",
            " 64/625 [==>...........................] - ETA: 11:41 - loss: 0.7110 - binary_accuracy: 0.5310\n",
            "Epoch 00001: saving model to saved/training/cp-0001.ckpt\n",
            " 96/625 [===>..........................] - ETA: 11:04 - loss: 0.7022 - binary_accuracy: 0.5403\n",
            "Epoch 00001: saving model to saved/training/cp-0001.ckpt\n",
            "128/625 [=====>........................] - ETA: 10:22 - loss: 0.6841 - binary_accuracy: 0.5585\n",
            "Epoch 00001: saving model to saved/training/cp-0001.ckpt\n",
            "160/625 [======>.......................] - ETA: 9:42 - loss: 0.6630 - binary_accuracy: 0.5784\n",
            "Epoch 00001: saving model to saved/training/cp-0001.ckpt\n",
            "192/625 [========>.....................] - ETA: 9:02 - loss: 0.6429 - binary_accuracy: 0.5969\n",
            "Epoch 00001: saving model to saved/training/cp-0001.ckpt\n",
            "224/625 [=========>....................] - ETA: 8:22 - loss: 0.6256 - binary_accuracy: 0.6130\n",
            "Epoch 00001: saving model to saved/training/cp-0001.ckpt\n",
            "256/625 [===========>..................] - ETA: 7:42 - loss: 0.6096 - binary_accuracy: 0.6274\n",
            "Epoch 00001: saving model to saved/training/cp-0001.ckpt\n",
            "288/625 [============>.................] - ETA: 7:02 - loss: 0.5950 - binary_accuracy: 0.6402\n",
            "Epoch 00001: saving model to saved/training/cp-0001.ckpt\n",
            "320/625 [==============>...............] - ETA: 6:22 - loss: 0.5821 - binary_accuracy: 0.6514\n",
            "Epoch 00001: saving model to saved/training/cp-0001.ckpt\n",
            "352/625 [===============>..............] - ETA: 5:42 - loss: 0.5704 - binary_accuracy: 0.6613\n",
            "Epoch 00001: saving model to saved/training/cp-0001.ckpt\n",
            "384/625 [=================>............] - ETA: 5:02 - loss: 0.5601 - binary_accuracy: 0.6700\n",
            "Epoch 00001: saving model to saved/training/cp-0001.ckpt\n",
            "416/625 [==================>...........] - ETA: 4:21 - loss: 0.5505 - binary_accuracy: 0.6780\n",
            "Epoch 00001: saving model to saved/training/cp-0001.ckpt\n",
            "448/625 [====================>.........] - ETA: 3:41 - loss: 0.5417 - binary_accuracy: 0.6853\n",
            "Epoch 00001: saving model to saved/training/cp-0001.ckpt\n",
            "480/625 [======================>.......] - ETA: 3:01 - loss: 0.5335 - binary_accuracy: 0.6921\n",
            "Epoch 00001: saving model to saved/training/cp-0001.ckpt\n",
            "512/625 [=======================>......] - ETA: 2:21 - loss: 0.5259 - binary_accuracy: 0.6984\n",
            "Epoch 00001: saving model to saved/training/cp-0001.ckpt\n",
            "544/625 [=========================>....] - ETA: 1:41 - loss: 0.5189 - binary_accuracy: 0.7041\n",
            "Epoch 00001: saving model to saved/training/cp-0001.ckpt\n",
            "576/625 [==========================>...] - ETA: 1:01 - loss: 0.5125 - binary_accuracy: 0.7093\n",
            "Epoch 00001: saving model to saved/training/cp-0001.ckpt\n",
            "608/625 [============================>.] - ETA: 21s - loss: 0.5065 - binary_accuracy: 0.7142\n",
            "Epoch 00001: saving model to saved/training/cp-0001.ckpt\n",
            "625/625 [==============================] - 850s 1s/step - loss: 0.5034 - binary_accuracy: 0.7167 - val_loss: 0.3000 - val_binary_accuracy: 0.8788\n",
            "Epoch 2/5\n",
            " 15/625 [..............................] - ETA: 12:32 - loss: 0.3219 - binary_accuracy: 0.8598\n",
            "Epoch 00002: saving model to saved/training/cp-0002.ckpt\n",
            " 47/625 [=>............................] - ETA: 11:57 - loss: 0.3121 - binary_accuracy: 0.8595\n",
            "Epoch 00002: saving model to saved/training/cp-0002.ckpt\n",
            " 79/625 [==>...........................] - ETA: 11:20 - loss: 0.3085 - binary_accuracy: 0.8607\n",
            "Epoch 00002: saving model to saved/training/cp-0002.ckpt\n",
            "111/625 [====>.........................] - ETA: 10:41 - loss: 0.3062 - binary_accuracy: 0.8619\n",
            "Epoch 00002: saving model to saved/training/cp-0002.ckpt\n",
            "143/625 [=====>........................] - ETA: 10:01 - loss: 0.3037 - binary_accuracy: 0.8639\n",
            "Epoch 00002: saving model to saved/training/cp-0002.ckpt\n",
            "175/625 [=======>......................] - ETA: 9:22 - loss: 0.3019 - binary_accuracy: 0.8655\n",
            "Epoch 00002: saving model to saved/training/cp-0002.ckpt\n",
            "207/625 [========>.....................] - ETA: 8:42 - loss: 0.3005 - binary_accuracy: 0.8669\n",
            "Epoch 00002: saving model to saved/training/cp-0002.ckpt\n",
            "239/625 [==========>...................] - ETA: 8:02 - loss: 0.2993 - binary_accuracy: 0.8681\n",
            "Epoch 00002: saving model to saved/training/cp-0002.ckpt\n",
            "271/625 [============>.................] - ETA: 7:22 - loss: 0.2973 - binary_accuracy: 0.8695\n",
            "Epoch 00002: saving model to saved/training/cp-0002.ckpt\n",
            "303/625 [=============>................] - ETA: 6:42 - loss: 0.2956 - binary_accuracy: 0.8707\n",
            "Epoch 00002: saving model to saved/training/cp-0002.ckpt\n",
            "335/625 [===============>..............] - ETA: 6:02 - loss: 0.2936 - binary_accuracy: 0.8719\n",
            "Epoch 00002: saving model to saved/training/cp-0002.ckpt\n",
            "367/625 [================>.............] - ETA: 5:22 - loss: 0.2919 - binary_accuracy: 0.8730\n",
            "Epoch 00002: saving model to saved/training/cp-0002.ckpt\n",
            "399/625 [==================>...........] - ETA: 4:42 - loss: 0.2901 - binary_accuracy: 0.8742\n",
            "Epoch 00002: saving model to saved/training/cp-0002.ckpt\n",
            "431/625 [===================>..........] - ETA: 4:02 - loss: 0.2881 - binary_accuracy: 0.8754\n",
            "Epoch 00002: saving model to saved/training/cp-0002.ckpt\n",
            "463/625 [=====================>........] - ETA: 3:22 - loss: 0.2861 - binary_accuracy: 0.8765\n",
            "Epoch 00002: saving model to saved/training/cp-0002.ckpt\n",
            "495/625 [======================>.......] - ETA: 2:42 - loss: 0.2843 - binary_accuracy: 0.8776\n",
            "Epoch 00002: saving model to saved/training/cp-0002.ckpt\n",
            "527/625 [========================>.....] - ETA: 2:02 - loss: 0.2824 - binary_accuracy: 0.8787\n",
            "Epoch 00002: saving model to saved/training/cp-0002.ckpt\n",
            "559/625 [=========================>....] - ETA: 1:22 - loss: 0.2806 - binary_accuracy: 0.8798\n",
            "Epoch 00002: saving model to saved/training/cp-0002.ckpt\n",
            "591/625 [===========================>..] - ETA: 42s - loss: 0.2789 - binary_accuracy: 0.8807\n",
            "Epoch 00002: saving model to saved/training/cp-0002.ckpt\n",
            "623/625 [============================>.] - ETA: 2s - loss: 0.2774 - binary_accuracy: 0.8816\n",
            "Epoch 00002: saving model to saved/training/cp-0002.ckpt\n",
            "625/625 [==============================] - 840s 1s/step - loss: 0.2772 - binary_accuracy: 0.8817 - val_loss: 0.2987 - val_binary_accuracy: 0.8840\n",
            "Epoch 3/5\n",
            " 30/625 [>.............................] - ETA: 12:17 - loss: 0.2135 - binary_accuracy: 0.9270\n",
            "Epoch 00003: saving model to saved/training/cp-0003.ckpt\n",
            " 62/625 [=>............................] - ETA: 11:42 - loss: 0.2115 - binary_accuracy: 0.9212\n",
            "Epoch 00003: saving model to saved/training/cp-0003.ckpt\n",
            " 94/625 [===>..........................] - ETA: 11:04 - loss: 0.2084 - binary_accuracy: 0.9199\n",
            "Epoch 00003: saving model to saved/training/cp-0003.ckpt\n",
            "126/625 [=====>........................] - ETA: 10:24 - loss: 0.2053 - binary_accuracy: 0.9202\n",
            "Epoch 00003: saving model to saved/training/cp-0003.ckpt\n",
            "158/625 [======>.......................] - ETA: 9:44 - loss: 0.2035 - binary_accuracy: 0.9209\n",
            "Epoch 00003: saving model to saved/training/cp-0003.ckpt\n",
            "190/625 [========>.....................] - ETA: 9:04 - loss: 0.2020 - binary_accuracy: 0.9216\n",
            "Epoch 00003: saving model to saved/training/cp-0003.ckpt\n",
            "222/625 [=========>....................] - ETA: 8:24 - loss: 0.2004 - binary_accuracy: 0.9224\n",
            "Epoch 00003: saving model to saved/training/cp-0003.ckpt\n",
            "254/625 [===========>..................] - ETA: 7:44 - loss: 0.1988 - binary_accuracy: 0.9232\n",
            "Epoch 00003: saving model to saved/training/cp-0003.ckpt\n",
            "286/625 [============>.................] - ETA: 7:04 - loss: 0.1978 - binary_accuracy: 0.9238\n",
            "Epoch 00003: saving model to saved/training/cp-0003.ckpt\n",
            "318/625 [==============>...............] - ETA: 6:24 - loss: 0.1965 - binary_accuracy: 0.9244\n",
            "Epoch 00003: saving model to saved/training/cp-0003.ckpt\n",
            "350/625 [===============>..............] - ETA: 5:44 - loss: 0.1951 - binary_accuracy: 0.9252\n",
            "Epoch 00003: saving model to saved/training/cp-0003.ckpt\n",
            "382/625 [=================>............] - ETA: 5:04 - loss: 0.1940 - binary_accuracy: 0.9259\n",
            "Epoch 00003: saving model to saved/training/cp-0003.ckpt\n",
            "414/625 [==================>...........] - ETA: 4:24 - loss: 0.1926 - binary_accuracy: 0.9267\n",
            "Epoch 00003: saving model to saved/training/cp-0003.ckpt\n",
            "446/625 [====================>.........] - ETA: 3:44 - loss: 0.1910 - binary_accuracy: 0.9275\n",
            "Epoch 00003: saving model to saved/training/cp-0003.ckpt\n",
            "478/625 [=====================>........] - ETA: 3:04 - loss: 0.1895 - binary_accuracy: 0.9283\n",
            "Epoch 00003: saving model to saved/training/cp-0003.ckpt\n",
            "510/625 [=======================>......] - ETA: 2:24 - loss: 0.1880 - binary_accuracy: 0.9291\n",
            "Epoch 00003: saving model to saved/training/cp-0003.ckpt\n",
            "542/625 [=========================>....] - ETA: 1:44 - loss: 0.1865 - binary_accuracy: 0.9299\n",
            "Epoch 00003: saving model to saved/training/cp-0003.ckpt\n",
            "574/625 [==========================>...] - ETA: 1:03 - loss: 0.1851 - binary_accuracy: 0.9306\n",
            "Epoch 00003: saving model to saved/training/cp-0003.ckpt\n",
            "606/625 [============================>.] - ETA: 23s - loss: 0.1837 - binary_accuracy: 0.9312\n",
            "Epoch 00003: saving model to saved/training/cp-0003.ckpt\n",
            "625/625 [==============================] - 841s 1s/step - loss: 0.1829 - binary_accuracy: 0.9316 - val_loss: 0.4330 - val_binary_accuracy: 0.8798\n",
            "Epoch 4/5\n",
            " 13/625 [..............................] - ETA: 12:39 - loss: 0.1389 - binary_accuracy: 0.9604\n",
            "Epoch 00004: saving model to saved/training/cp-0004.ckpt\n",
            " 45/625 [=>............................] - ETA: 12:04 - loss: 0.1312 - binary_accuracy: 0.9579\n",
            "Epoch 00004: saving model to saved/training/cp-0004.ckpt\n",
            " 77/625 [==>...........................] - ETA: 11:26 - loss: 0.1262 - binary_accuracy: 0.9590\n",
            "Epoch 00004: saving model to saved/training/cp-0004.ckpt\n",
            "109/625 [====>.........................] - ETA: 10:46 - loss: 0.1222 - binary_accuracy: 0.9600\n",
            "Epoch 00004: saving model to saved/training/cp-0004.ckpt\n",
            "141/625 [=====>........................] - ETA: 10:07 - loss: 0.1188 - binary_accuracy: 0.9609\n",
            "Epoch 00004: saving model to saved/training/cp-0004.ckpt\n",
            "173/625 [=======>......................] - ETA: 9:27 - loss: 0.1174 - binary_accuracy: 0.9612\n",
            "Epoch 00004: saving model to saved/training/cp-0004.ckpt\n",
            "205/625 [========>.....................] - ETA: 8:47 - loss: 0.1159 - binary_accuracy: 0.9617\n",
            "Epoch 00004: saving model to saved/training/cp-0004.ckpt\n",
            "237/625 [==========>...................] - ETA: 8:07 - loss: 0.1147 - binary_accuracy: 0.9620\n",
            "Epoch 00004: saving model to saved/training/cp-0004.ckpt\n",
            "269/625 [===========>..................] - ETA: 7:26 - loss: 0.1135 - binary_accuracy: 0.9624\n",
            "Epoch 00004: saving model to saved/training/cp-0004.ckpt\n",
            "301/625 [=============>................] - ETA: 6:46 - loss: 0.1122 - binary_accuracy: 0.9628\n",
            "Epoch 00004: saving model to saved/training/cp-0004.ckpt\n",
            "333/625 [==============>...............] - ETA: 6:06 - loss: 0.1108 - binary_accuracy: 0.9634\n",
            "Epoch 00004: saving model to saved/training/cp-0004.ckpt\n",
            "365/625 [================>.............] - ETA: 5:25 - loss: 0.1097 - binary_accuracy: 0.9638\n",
            "Epoch 00004: saving model to saved/training/cp-0004.ckpt\n",
            "397/625 [==================>...........] - ETA: 4:45 - loss: 0.1087 - binary_accuracy: 0.9643\n",
            "Epoch 00004: saving model to saved/training/cp-0004.ckpt\n",
            "429/625 [===================>..........] - ETA: 4:05 - loss: 0.1077 - binary_accuracy: 0.9648\n",
            "Epoch 00004: saving model to saved/training/cp-0004.ckpt\n",
            "461/625 [=====================>........] - ETA: 3:25 - loss: 0.1067 - binary_accuracy: 0.9653\n",
            "Epoch 00004: saving model to saved/training/cp-0004.ckpt\n",
            "493/625 [======================>.......] - ETA: 2:45 - loss: 0.1060 - binary_accuracy: 0.9657\n",
            "Epoch 00004: saving model to saved/training/cp-0004.ckpt\n",
            "525/625 [========================>.....] - ETA: 2:05 - loss: 0.1052 - binary_accuracy: 0.9661\n",
            "Epoch 00004: saving model to saved/training/cp-0004.ckpt\n",
            "557/625 [=========================>....] - ETA: 1:25 - loss: 0.1044 - binary_accuracy: 0.9665\n",
            "Epoch 00004: saving model to saved/training/cp-0004.ckpt\n",
            "589/625 [===========================>..] - ETA: 45s - loss: 0.1038 - binary_accuracy: 0.9669\n",
            "Epoch 00004: saving model to saved/training/cp-0004.ckpt\n",
            "621/625 [============================>.] - ETA: 5s - loss: 0.1032 - binary_accuracy: 0.9672\n",
            "Epoch 00004: saving model to saved/training/cp-0004.ckpt\n",
            "625/625 [==============================] - 841s 1s/step - loss: 0.1031 - binary_accuracy: 0.9672 - val_loss: 0.5972 - val_binary_accuracy: 0.8808\n",
            "Epoch 5/5\n",
            " 28/625 [>.............................] - ETA: 12:19 - loss: 0.1012 - binary_accuracy: 0.9811\n",
            "Epoch 00005: saving model to saved/training/cp-0005.ckpt\n",
            " 60/625 [=>............................] - ETA: 11:45 - loss: 0.0847 - binary_accuracy: 0.9797\n",
            "Epoch 00005: saving model to saved/training/cp-0005.ckpt\n",
            " 92/625 [===>..........................] - ETA: 11:06 - loss: 0.0776 - binary_accuracy: 0.9799\n",
            "Epoch 00005: saving model to saved/training/cp-0005.ckpt\n",
            "124/625 [====>.........................] - ETA: 10:27 - loss: 0.0723 - binary_accuracy: 0.9803\n",
            "Epoch 00005: saving model to saved/training/cp-0005.ckpt\n",
            "156/625 [======>.......................] - ETA: 9:47 - loss: 0.0697 - binary_accuracy: 0.9805\n",
            "Epoch 00005: saving model to saved/training/cp-0005.ckpt\n",
            "188/625 [========>.....................] - ETA: 9:07 - loss: 0.0683 - binary_accuracy: 0.9807\n",
            "Epoch 00005: saving model to saved/training/cp-0005.ckpt\n",
            "220/625 [=========>....................] - ETA: 8:27 - loss: 0.0671 - binary_accuracy: 0.9810\n",
            "Epoch 00005: saving model to saved/training/cp-0005.ckpt\n",
            "252/625 [===========>..................] - ETA: 7:47 - loss: 0.0661 - binary_accuracy: 0.9812\n",
            "Epoch 00005: saving model to saved/training/cp-0005.ckpt\n",
            "284/625 [============>.................] - ETA: 7:07 - loss: 0.0652 - binary_accuracy: 0.9815\n",
            "Epoch 00005: saving model to saved/training/cp-0005.ckpt\n",
            "316/625 [==============>...............] - ETA: 6:27 - loss: 0.0641 - binary_accuracy: 0.9819\n",
            "Epoch 00005: saving model to saved/training/cp-0005.ckpt\n",
            "348/625 [===============>..............] - ETA: 5:47 - loss: 0.0630 - binary_accuracy: 0.9823\n",
            "Epoch 00005: saving model to saved/training/cp-0005.ckpt\n",
            "380/625 [=================>............] - ETA: 5:07 - loss: 0.0621 - binary_accuracy: 0.9826\n",
            "Epoch 00005: saving model to saved/training/cp-0005.ckpt\n",
            "412/625 [==================>...........] - ETA: 4:27 - loss: 0.0612 - binary_accuracy: 0.9829\n",
            "Epoch 00005: saving model to saved/training/cp-0005.ckpt\n",
            "444/625 [====================>.........] - ETA: 3:46 - loss: 0.0604 - binary_accuracy: 0.9832\n",
            "Epoch 00005: saving model to saved/training/cp-0005.ckpt\n",
            "476/625 [=====================>........] - ETA: 3:06 - loss: 0.0596 - binary_accuracy: 0.9835\n",
            "Epoch 00005: saving model to saved/training/cp-0005.ckpt\n",
            "508/625 [=======================>......] - ETA: 2:26 - loss: 0.0590 - binary_accuracy: 0.9838\n",
            "Epoch 00005: saving model to saved/training/cp-0005.ckpt\n",
            "540/625 [========================>.....] - ETA: 1:46 - loss: 0.0584 - binary_accuracy: 0.9840\n",
            "Epoch 00005: saving model to saved/training/cp-0005.ckpt\n",
            "572/625 [==========================>...] - ETA: 1:06 - loss: 0.0579 - binary_accuracy: 0.9843\n",
            "Epoch 00005: saving model to saved/training/cp-0005.ckpt\n",
            "604/625 [===========================>..] - ETA: 26s - loss: 0.0575 - binary_accuracy: 0.9845\n",
            "Epoch 00005: saving model to saved/training/cp-0005.ckpt\n",
            "625/625 [==============================] - 841s 1s/step - loss: 0.0572 - binary_accuracy: 0.9846 - val_loss: 0.6175 - val_binary_accuracy: 0.8852\n"
          ],
          "name": "stdout"
        }
      ]
    },
    {
      "cell_type": "code",
      "metadata": {
        "id": "MAwULa1gJqTD"
      },
      "source": [
        "classifier_model.save_weights('./saved/my_checkpoint')"
      ],
      "execution_count": null,
      "outputs": []
    },
    {
      "cell_type": "code",
      "metadata": {
        "colab": {
          "base_uri": "https://localhost:8080/"
        },
        "id": "bfS2RuSnJxCO",
        "outputId": "39d0c78a-6ec4-4479-cbe7-fa7d2d5a0c62"
      },
      "source": [
        "classifier_model.save('saved/classifier_model')"
      ],
      "execution_count": null,
      "outputs": [
        {
          "output_type": "stream",
          "text": [
            "WARNING:absl:Found untraced functions such as restored_function_body, restored_function_body, restored_function_body, restored_function_body, restored_function_body while saving (showing 5 of 85). These functions will not be directly callable after loading.\n",
            "WARNING:absl:Found untraced functions such as restored_function_body, restored_function_body, restored_function_body, restored_function_body, restored_function_body while saving (showing 5 of 85). These functions will not be directly callable after loading.\n"
          ],
          "name": "stderr"
        }
      ]
    },
    {
      "cell_type": "code",
      "metadata": {
        "colab": {
          "base_uri": "https://localhost:8080/"
        },
        "id": "FKeSytOKKCBo",
        "outputId": "5d7d1806-9d62-4499-d30c-4d26409de4b1"
      },
      "source": [
        "loss, accuracy = classifier_model.evaluate(test_ds)\n",
        "\n",
        "print(f'Loss: {loss}')\n",
        "print(f'Accuracy: {accuracy}')"
      ],
      "execution_count": null,
      "outputs": [
        {
          "output_type": "stream",
          "text": [
            "782/782 [==============================] - 287s 367ms/step - loss: 0.6110 - binary_accuracy: 0.8870\n",
            "Loss: 0.6110113263130188\n",
            "Accuracy: 0.8869600296020508\n"
          ],
          "name": "stdout"
        }
      ]
    },
    {
      "cell_type": "code",
      "metadata": {
        "colab": {
          "base_uri": "https://localhost:8080/",
          "height": 438
        },
        "id": "7jJgGY44RAOo",
        "outputId": "51a5e8eb-8f3f-4439-b90d-bb613addb424"
      },
      "source": [
        "history_dict = history.history\n",
        "print(history_dict.keys())\n",
        "\n",
        "acc = history_dict['binary_accuracy']\n",
        "val_acc = history_dict['val_binary_accuracy']\n",
        "loss = history_dict['loss']\n",
        "val_loss = history_dict['val_loss']\n",
        "\n",
        "epochs = range(1, len(acc) + 1)\n",
        "fig = plt.figure(figsize=(10, 6))\n",
        "fig.tight_layout()\n",
        "\n",
        "plt.subplot(2, 1, 1)\n",
        "# \"bo\" is for \"blue dot\"\n",
        "plt.plot(epochs, loss, 'r', label='Training loss')\n",
        "# b is for \"solid blue line\"\n",
        "plt.plot(epochs, val_loss, 'b', label='Validation loss')\n",
        "plt.title('Training and validation loss')\n",
        "# plt.xlabel('Epochs')\n",
        "plt.ylabel('Loss')\n",
        "plt.legend()\n",
        "\n",
        "plt.subplot(2, 1, 2)\n",
        "plt.plot(epochs, acc, 'r', label='Training acc')\n",
        "plt.plot(epochs, val_acc, 'b', label='Validation acc')\n",
        "plt.title('Training and validation accuracy')\n",
        "plt.xlabel('Epochs')\n",
        "plt.ylabel('Accuracy')\n",
        "plt.legend(loc='lower right')"
      ],
      "execution_count": null,
      "outputs": [
        {
          "output_type": "stream",
          "text": [
            "dict_keys(['loss', 'binary_accuracy', 'val_loss', 'val_binary_accuracy'])\n"
          ],
          "name": "stdout"
        },
        {
          "output_type": "execute_result",
          "data": {
            "text/plain": [
              "<matplotlib.legend.Legend at 0x7f108dd0f450>"
            ]
          },
          "metadata": {
            "tags": []
          },
          "execution_count": 83
        },
        {
          "output_type": "display_data",
          "data": {
            "image/png": "[encoded data removed]",
            "text/plain": [
              "<Figure size 720x432 with 2 Axes>"
            ]
          },
          "metadata": {
            "tags": [],
            "needs_background": "light"
          }
        }
      ]
    },
    {
      "cell_type": "code",
      "metadata": {
        "colab": {
          "base_uri": "https://localhost:8080/"
        },
        "id": "9cfjWrcGzXEM",
        "outputId": "da6cf2ab-70e7-4b84-a7a6-f42a0e67fb1f"
      },
      "source": [
        "reloaded_model = build_classifier_model()\n",
        "reloaded_model.load_weights(\"saved/training/cp-0002.ckpt\")"
      ],
      "execution_count": null,
      "outputs": [
        {
          "output_type": "execute_result",
          "data": {
            "text/plain": [
              "<tensorflow.python.training.tracking.util.CheckpointLoadStatus at 0x7f1081d353d0>"
            ]
          },
          "metadata": {
            "tags": []
          },
          "execution_count": 88
        }
      ]
    },
    {
      "cell_type": "code",
      "metadata": {
        "colab": {
          "base_uri": "https://localhost:8080/",
          "height": 868
        },
        "id": "OYWMCRvF32-u",
        "outputId": "541d333d-6209-428a-da24-0f03fd53cc6a"
      },
      "source": [
        "reloaded_model.compile(optimizer=optimizer,\n",
        "                         loss=loss,\n",
        "                         metrics=metrics)\n",
        "\n",
        "loss, accuracy = reloaded_model.evaluate(test_ds)\n",
        "\n",
        "print(f'Loss: {loss}')\n",
        "print(f'Accuracy: {accuracy}')"
      ],
      "execution_count": null,
      "outputs": [
        {
          "output_type": "error",
          "ename": "ValueError",
          "evalue": "ignored",
          "traceback": [
            "\u001b[0;31m---------------------------------------------------------------------------\u001b[0m",
            "\u001b[0;31mValueError\u001b[0m                                Traceback (most recent call last)",
            "\u001b[0;32m<ipython-input-120-88f5ca4b5dd0>\u001b[0m in \u001b[0;36m<module>\u001b[0;34m()\u001b[0m\n\u001b[1;32m      3\u001b[0m                          metrics=metrics)\n\u001b[1;32m      4\u001b[0m \u001b[0;34m\u001b[0m\u001b[0m\n\u001b[0;32m----> 5\u001b[0;31m \u001b[0mloss\u001b[0m\u001b[0;34m,\u001b[0m \u001b[0maccuracy\u001b[0m \u001b[0;34m=\u001b[0m \u001b[0mreloaded_model\u001b[0m\u001b[0;34m.\u001b[0m\u001b[0mevaluate\u001b[0m\u001b[0;34m(\u001b[0m\u001b[0mtest_ds\u001b[0m\u001b[0;34m)\u001b[0m\u001b[0;34m\u001b[0m\u001b[0;34m\u001b[0m\u001b[0m\n\u001b[0m\u001b[1;32m      6\u001b[0m \u001b[0;34m\u001b[0m\u001b[0m\n\u001b[1;32m      7\u001b[0m \u001b[0mprint\u001b[0m\u001b[0;34m(\u001b[0m\u001b[0;34mf'Loss: {loss}'\u001b[0m\u001b[0;34m)\u001b[0m\u001b[0;34m\u001b[0m\u001b[0;34m\u001b[0m\u001b[0m\n",
            "\u001b[0;32m/usr/local/lib/python3.7/dist-packages/tensorflow/python/keras/engine/training.py\u001b[0m in \u001b[0;36mevaluate\u001b[0;34m(self, x, y, batch_size, verbose, sample_weight, steps, callbacks, max_queue_size, workers, use_multiprocessing, return_dict)\u001b[0m\n\u001b[1;32m   1387\u001b[0m             \u001b[0;32mwith\u001b[0m \u001b[0mtrace\u001b[0m\u001b[0;34m.\u001b[0m\u001b[0mTrace\u001b[0m\u001b[0;34m(\u001b[0m\u001b[0;34m'test'\u001b[0m\u001b[0;34m,\u001b[0m \u001b[0mstep_num\u001b[0m\u001b[0;34m=\u001b[0m\u001b[0mstep\u001b[0m\u001b[0;34m,\u001b[0m \u001b[0m_r\u001b[0m\u001b[0;34m=\u001b[0m\u001b[0;36m1\u001b[0m\u001b[0;34m)\u001b[0m\u001b[0;34m:\u001b[0m\u001b[0;34m\u001b[0m\u001b[0;34m\u001b[0m\u001b[0m\n\u001b[1;32m   1388\u001b[0m               \u001b[0mcallbacks\u001b[0m\u001b[0;34m.\u001b[0m\u001b[0mon_test_batch_begin\u001b[0m\u001b[0;34m(\u001b[0m\u001b[0mstep\u001b[0m\u001b[0;34m)\u001b[0m\u001b[0;34m\u001b[0m\u001b[0;34m\u001b[0m\u001b[0m\n\u001b[0;32m-> 1389\u001b[0;31m               \u001b[0mtmp_logs\u001b[0m \u001b[0;34m=\u001b[0m \u001b[0mself\u001b[0m\u001b[0;34m.\u001b[0m\u001b[0mtest_function\u001b[0m\u001b[0;34m(\u001b[0m\u001b[0miterator\u001b[0m\u001b[0;34m)\u001b[0m\u001b[0;34m\u001b[0m\u001b[0;34m\u001b[0m\u001b[0m\n\u001b[0m\u001b[1;32m   1390\u001b[0m               \u001b[0;32mif\u001b[0m \u001b[0mdata_handler\u001b[0m\u001b[0;34m.\u001b[0m\u001b[0mshould_sync\u001b[0m\u001b[0;34m:\u001b[0m\u001b[0;34m\u001b[0m\u001b[0;34m\u001b[0m\u001b[0m\n\u001b[1;32m   1391\u001b[0m                 \u001b[0mcontext\u001b[0m\u001b[0;34m.\u001b[0m\u001b[0masync_wait\u001b[0m\u001b[0;34m(\u001b[0m\u001b[0;34m)\u001b[0m\u001b[0;34m\u001b[0m\u001b[0;34m\u001b[0m\u001b[0m\n",
            "\u001b[0;32m/usr/local/lib/python3.7/dist-packages/tensorflow/python/eager/def_function.py\u001b[0m in \u001b[0;36m__call__\u001b[0;34m(self, *args, **kwds)\u001b[0m\n\u001b[1;32m    826\u001b[0m     \u001b[0mtracing_count\u001b[0m \u001b[0;34m=\u001b[0m \u001b[0mself\u001b[0m\u001b[0;34m.\u001b[0m\u001b[0mexperimental_get_tracing_count\u001b[0m\u001b[0;34m(\u001b[0m\u001b[0;34m)\u001b[0m\u001b[0;34m\u001b[0m\u001b[0;34m\u001b[0m\u001b[0m\n\u001b[1;32m    827\u001b[0m     \u001b[0;32mwith\u001b[0m \u001b[0mtrace\u001b[0m\u001b[0;34m.\u001b[0m\u001b[0mTrace\u001b[0m\u001b[0;34m(\u001b[0m\u001b[0mself\u001b[0m\u001b[0;34m.\u001b[0m\u001b[0m_name\u001b[0m\u001b[0;34m)\u001b[0m \u001b[0;32mas\u001b[0m \u001b[0mtm\u001b[0m\u001b[0;34m:\u001b[0m\u001b[0;34m\u001b[0m\u001b[0;34m\u001b[0m\u001b[0m\n\u001b[0;32m--> 828\u001b[0;31m       \u001b[0mresult\u001b[0m \u001b[0;34m=\u001b[0m \u001b[0mself\u001b[0m\u001b[0;34m.\u001b[0m\u001b[0m_call\u001b[0m\u001b[0;34m(\u001b[0m\u001b[0;34m*\u001b[0m\u001b[0margs\u001b[0m\u001b[0;34m,\u001b[0m \u001b[0;34m**\u001b[0m\u001b[0mkwds\u001b[0m\u001b[0;34m)\u001b[0m\u001b[0;34m\u001b[0m\u001b[0;34m\u001b[0m\u001b[0m\n\u001b[0m\u001b[1;32m    829\u001b[0m       \u001b[0mcompiler\u001b[0m \u001b[0;34m=\u001b[0m \u001b[0;34m\"xla\"\u001b[0m \u001b[0;32mif\u001b[0m \u001b[0mself\u001b[0m\u001b[0;34m.\u001b[0m\u001b[0m_experimental_compile\u001b[0m \u001b[0;32melse\u001b[0m \u001b[0;34m\"nonXla\"\u001b[0m\u001b[0;34m\u001b[0m\u001b[0;34m\u001b[0m\u001b[0m\n\u001b[1;32m    830\u001b[0m       \u001b[0mnew_tracing_count\u001b[0m \u001b[0;34m=\u001b[0m \u001b[0mself\u001b[0m\u001b[0;34m.\u001b[0m\u001b[0mexperimental_get_tracing_count\u001b[0m\u001b[0;34m(\u001b[0m\u001b[0;34m)\u001b[0m\u001b[0;34m\u001b[0m\u001b[0;34m\u001b[0m\u001b[0m\n",
            "\u001b[0;32m/usr/local/lib/python3.7/dist-packages/tensorflow/python/eager/def_function.py\u001b[0m in \u001b[0;36m_call\u001b[0;34m(self, *args, **kwds)\u001b[0m\n\u001b[1;32m    869\u001b[0m       \u001b[0;31m# This is the first call of __call__, so we have to initialize.\u001b[0m\u001b[0;34m\u001b[0m\u001b[0;34m\u001b[0m\u001b[0;34m\u001b[0m\u001b[0m\n\u001b[1;32m    870\u001b[0m       \u001b[0minitializers\u001b[0m \u001b[0;34m=\u001b[0m \u001b[0;34m[\u001b[0m\u001b[0;34m]\u001b[0m\u001b[0;34m\u001b[0m\u001b[0;34m\u001b[0m\u001b[0m\n\u001b[0;32m--> 871\u001b[0;31m       \u001b[0mself\u001b[0m\u001b[0;34m.\u001b[0m\u001b[0m_initialize\u001b[0m\u001b[0;34m(\u001b[0m\u001b[0margs\u001b[0m\u001b[0;34m,\u001b[0m \u001b[0mkwds\u001b[0m\u001b[0;34m,\u001b[0m \u001b[0madd_initializers_to\u001b[0m\u001b[0;34m=\u001b[0m\u001b[0minitializers\u001b[0m\u001b[0;34m)\u001b[0m\u001b[0;34m\u001b[0m\u001b[0;34m\u001b[0m\u001b[0m\n\u001b[0m\u001b[1;32m    872\u001b[0m     \u001b[0;32mfinally\u001b[0m\u001b[0;34m:\u001b[0m\u001b[0;34m\u001b[0m\u001b[0;34m\u001b[0m\u001b[0m\n\u001b[1;32m    873\u001b[0m       \u001b[0;31m# At this point we know that the initialization is complete (or less\u001b[0m\u001b[0;34m\u001b[0m\u001b[0;34m\u001b[0m\u001b[0;34m\u001b[0m\u001b[0m\n",
            "\u001b[0;32m/usr/local/lib/python3.7/dist-packages/tensorflow/python/eager/def_function.py\u001b[0m in \u001b[0;36m_initialize\u001b[0;34m(self, args, kwds, add_initializers_to)\u001b[0m\n\u001b[1;32m    724\u001b[0m     self._concrete_stateful_fn = (\n\u001b[1;32m    725\u001b[0m         self._stateful_fn._get_concrete_function_internal_garbage_collected(  # pylint: disable=protected-access\n\u001b[0;32m--> 726\u001b[0;31m             *args, **kwds))\n\u001b[0m\u001b[1;32m    727\u001b[0m \u001b[0;34m\u001b[0m\u001b[0m\n\u001b[1;32m    728\u001b[0m     \u001b[0;32mdef\u001b[0m \u001b[0minvalid_creator_scope\u001b[0m\u001b[0;34m(\u001b[0m\u001b[0;34m*\u001b[0m\u001b[0munused_args\u001b[0m\u001b[0;34m,\u001b[0m \u001b[0;34m**\u001b[0m\u001b[0munused_kwds\u001b[0m\u001b[0;34m)\u001b[0m\u001b[0;34m:\u001b[0m\u001b[0;34m\u001b[0m\u001b[0;34m\u001b[0m\u001b[0m\n",
            "\u001b[0;32m/usr/local/lib/python3.7/dist-packages/tensorflow/python/eager/function.py\u001b[0m in \u001b[0;36m_get_concrete_function_internal_garbage_collected\u001b[0;34m(self, *args, **kwargs)\u001b[0m\n\u001b[1;32m   2967\u001b[0m       \u001b[0margs\u001b[0m\u001b[0;34m,\u001b[0m \u001b[0mkwargs\u001b[0m \u001b[0;34m=\u001b[0m \u001b[0;32mNone\u001b[0m\u001b[0;34m,\u001b[0m \u001b[0;32mNone\u001b[0m\u001b[0;34m\u001b[0m\u001b[0;34m\u001b[0m\u001b[0m\n\u001b[1;32m   2968\u001b[0m     \u001b[0;32mwith\u001b[0m \u001b[0mself\u001b[0m\u001b[0;34m.\u001b[0m\u001b[0m_lock\u001b[0m\u001b[0;34m:\u001b[0m\u001b[0;34m\u001b[0m\u001b[0;34m\u001b[0m\u001b[0m\n\u001b[0;32m-> 2969\u001b[0;31m       \u001b[0mgraph_function\u001b[0m\u001b[0;34m,\u001b[0m \u001b[0m_\u001b[0m \u001b[0;34m=\u001b[0m \u001b[0mself\u001b[0m\u001b[0;34m.\u001b[0m\u001b[0m_maybe_define_function\u001b[0m\u001b[0;34m(\u001b[0m\u001b[0margs\u001b[0m\u001b[0;34m,\u001b[0m \u001b[0mkwargs\u001b[0m\u001b[0;34m)\u001b[0m\u001b[0;34m\u001b[0m\u001b[0;34m\u001b[0m\u001b[0m\n\u001b[0m\u001b[1;32m   2970\u001b[0m     \u001b[0;32mreturn\u001b[0m \u001b[0mgraph_function\u001b[0m\u001b[0;34m\u001b[0m\u001b[0;34m\u001b[0m\u001b[0m\n\u001b[1;32m   2971\u001b[0m \u001b[0;34m\u001b[0m\u001b[0m\n",
            "\u001b[0;32m/usr/local/lib/python3.7/dist-packages/tensorflow/python/eager/function.py\u001b[0m in \u001b[0;36m_maybe_define_function\u001b[0;34m(self, args, kwargs)\u001b[0m\n\u001b[1;32m   3359\u001b[0m \u001b[0;34m\u001b[0m\u001b[0m\n\u001b[1;32m   3360\u001b[0m           \u001b[0mself\u001b[0m\u001b[0;34m.\u001b[0m\u001b[0m_function_cache\u001b[0m\u001b[0;34m.\u001b[0m\u001b[0mmissed\u001b[0m\u001b[0;34m.\u001b[0m\u001b[0madd\u001b[0m\u001b[0;34m(\u001b[0m\u001b[0mcall_context_key\u001b[0m\u001b[0;34m)\u001b[0m\u001b[0;34m\u001b[0m\u001b[0;34m\u001b[0m\u001b[0m\n\u001b[0;32m-> 3361\u001b[0;31m           \u001b[0mgraph_function\u001b[0m \u001b[0;34m=\u001b[0m \u001b[0mself\u001b[0m\u001b[0;34m.\u001b[0m\u001b[0m_create_graph_function\u001b[0m\u001b[0;34m(\u001b[0m\u001b[0margs\u001b[0m\u001b[0;34m,\u001b[0m \u001b[0mkwargs\u001b[0m\u001b[0;34m)\u001b[0m\u001b[0;34m\u001b[0m\u001b[0;34m\u001b[0m\u001b[0m\n\u001b[0m\u001b[1;32m   3362\u001b[0m           \u001b[0mself\u001b[0m\u001b[0;34m.\u001b[0m\u001b[0m_function_cache\u001b[0m\u001b[0;34m.\u001b[0m\u001b[0mprimary\u001b[0m\u001b[0;34m[\u001b[0m\u001b[0mcache_key\u001b[0m\u001b[0;34m]\u001b[0m \u001b[0;34m=\u001b[0m \u001b[0mgraph_function\u001b[0m\u001b[0;34m\u001b[0m\u001b[0;34m\u001b[0m\u001b[0m\n\u001b[1;32m   3363\u001b[0m \u001b[0;34m\u001b[0m\u001b[0m\n",
            "\u001b[0;32m/usr/local/lib/python3.7/dist-packages/tensorflow/python/eager/function.py\u001b[0m in \u001b[0;36m_create_graph_function\u001b[0;34m(self, args, kwargs, override_flat_arg_shapes)\u001b[0m\n\u001b[1;32m   3204\u001b[0m             \u001b[0marg_names\u001b[0m\u001b[0;34m=\u001b[0m\u001b[0marg_names\u001b[0m\u001b[0;34m,\u001b[0m\u001b[0;34m\u001b[0m\u001b[0;34m\u001b[0m\u001b[0m\n\u001b[1;32m   3205\u001b[0m             \u001b[0moverride_flat_arg_shapes\u001b[0m\u001b[0;34m=\u001b[0m\u001b[0moverride_flat_arg_shapes\u001b[0m\u001b[0;34m,\u001b[0m\u001b[0;34m\u001b[0m\u001b[0;34m\u001b[0m\u001b[0m\n\u001b[0;32m-> 3206\u001b[0;31m             capture_by_value=self._capture_by_value),\n\u001b[0m\u001b[1;32m   3207\u001b[0m         \u001b[0mself\u001b[0m\u001b[0;34m.\u001b[0m\u001b[0m_function_attributes\u001b[0m\u001b[0;34m,\u001b[0m\u001b[0;34m\u001b[0m\u001b[0;34m\u001b[0m\u001b[0m\n\u001b[1;32m   3208\u001b[0m         \u001b[0mfunction_spec\u001b[0m\u001b[0;34m=\u001b[0m\u001b[0mself\u001b[0m\u001b[0;34m.\u001b[0m\u001b[0mfunction_spec\u001b[0m\u001b[0;34m,\u001b[0m\u001b[0;34m\u001b[0m\u001b[0;34m\u001b[0m\u001b[0m\n",
            "\u001b[0;32m/usr/local/lib/python3.7/dist-packages/tensorflow/python/framework/func_graph.py\u001b[0m in \u001b[0;36mfunc_graph_from_py_func\u001b[0;34m(name, python_func, args, kwargs, signature, func_graph, autograph, autograph_options, add_control_dependencies, arg_names, op_return_value, collections, capture_by_value, override_flat_arg_shapes)\u001b[0m\n\u001b[1;32m    988\u001b[0m         \u001b[0m_\u001b[0m\u001b[0;34m,\u001b[0m \u001b[0moriginal_func\u001b[0m \u001b[0;34m=\u001b[0m \u001b[0mtf_decorator\u001b[0m\u001b[0;34m.\u001b[0m\u001b[0munwrap\u001b[0m\u001b[0;34m(\u001b[0m\u001b[0mpython_func\u001b[0m\u001b[0;34m)\u001b[0m\u001b[0;34m\u001b[0m\u001b[0;34m\u001b[0m\u001b[0m\n\u001b[1;32m    989\u001b[0m \u001b[0;34m\u001b[0m\u001b[0m\n\u001b[0;32m--> 990\u001b[0;31m       \u001b[0mfunc_outputs\u001b[0m \u001b[0;34m=\u001b[0m \u001b[0mpython_func\u001b[0m\u001b[0;34m(\u001b[0m\u001b[0;34m*\u001b[0m\u001b[0mfunc_args\u001b[0m\u001b[0;34m,\u001b[0m \u001b[0;34m**\u001b[0m\u001b[0mfunc_kwargs\u001b[0m\u001b[0;34m)\u001b[0m\u001b[0;34m\u001b[0m\u001b[0;34m\u001b[0m\u001b[0m\n\u001b[0m\u001b[1;32m    991\u001b[0m \u001b[0;34m\u001b[0m\u001b[0m\n\u001b[1;32m    992\u001b[0m       \u001b[0;31m# invariant: `func_outputs` contains only Tensors, CompositeTensors,\u001b[0m\u001b[0;34m\u001b[0m\u001b[0;34m\u001b[0m\u001b[0;34m\u001b[0m\u001b[0m\n",
            "\u001b[0;32m/usr/local/lib/python3.7/dist-packages/tensorflow/python/eager/def_function.py\u001b[0m in \u001b[0;36mwrapped_fn\u001b[0;34m(*args, **kwds)\u001b[0m\n\u001b[1;32m    632\u001b[0m             \u001b[0mxla_context\u001b[0m\u001b[0;34m.\u001b[0m\u001b[0mExit\u001b[0m\u001b[0;34m(\u001b[0m\u001b[0;34m)\u001b[0m\u001b[0;34m\u001b[0m\u001b[0;34m\u001b[0m\u001b[0m\n\u001b[1;32m    633\u001b[0m         \u001b[0;32melse\u001b[0m\u001b[0;34m:\u001b[0m\u001b[0;34m\u001b[0m\u001b[0;34m\u001b[0m\u001b[0m\n\u001b[0;32m--> 634\u001b[0;31m           \u001b[0mout\u001b[0m \u001b[0;34m=\u001b[0m \u001b[0mweak_wrapped_fn\u001b[0m\u001b[0;34m(\u001b[0m\u001b[0;34m)\u001b[0m\u001b[0;34m.\u001b[0m\u001b[0m__wrapped__\u001b[0m\u001b[0;34m(\u001b[0m\u001b[0;34m*\u001b[0m\u001b[0margs\u001b[0m\u001b[0;34m,\u001b[0m \u001b[0;34m**\u001b[0m\u001b[0mkwds\u001b[0m\u001b[0;34m)\u001b[0m\u001b[0;34m\u001b[0m\u001b[0;34m\u001b[0m\u001b[0m\n\u001b[0m\u001b[1;32m    635\u001b[0m         \u001b[0;32mreturn\u001b[0m \u001b[0mout\u001b[0m\u001b[0;34m\u001b[0m\u001b[0;34m\u001b[0m\u001b[0m\n\u001b[1;32m    636\u001b[0m \u001b[0;34m\u001b[0m\u001b[0m\n",
            "\u001b[0;32m/usr/local/lib/python3.7/dist-packages/tensorflow/python/framework/func_graph.py\u001b[0m in \u001b[0;36mwrapper\u001b[0;34m(*args, **kwargs)\u001b[0m\n\u001b[1;32m    975\u001b[0m           \u001b[0;32mexcept\u001b[0m \u001b[0mException\u001b[0m \u001b[0;32mas\u001b[0m \u001b[0me\u001b[0m\u001b[0;34m:\u001b[0m  \u001b[0;31m# pylint:disable=broad-except\u001b[0m\u001b[0;34m\u001b[0m\u001b[0;34m\u001b[0m\u001b[0m\n\u001b[1;32m    976\u001b[0m             \u001b[0;32mif\u001b[0m \u001b[0mhasattr\u001b[0m\u001b[0;34m(\u001b[0m\u001b[0me\u001b[0m\u001b[0;34m,\u001b[0m \u001b[0;34m\"ag_error_metadata\"\u001b[0m\u001b[0;34m)\u001b[0m\u001b[0;34m:\u001b[0m\u001b[0;34m\u001b[0m\u001b[0;34m\u001b[0m\u001b[0m\n\u001b[0;32m--> 977\u001b[0;31m               \u001b[0;32mraise\u001b[0m \u001b[0me\u001b[0m\u001b[0;34m.\u001b[0m\u001b[0mag_error_metadata\u001b[0m\u001b[0;34m.\u001b[0m\u001b[0mto_exception\u001b[0m\u001b[0;34m(\u001b[0m\u001b[0me\u001b[0m\u001b[0;34m)\u001b[0m\u001b[0;34m\u001b[0m\u001b[0;34m\u001b[0m\u001b[0m\n\u001b[0m\u001b[1;32m    978\u001b[0m             \u001b[0;32melse\u001b[0m\u001b[0;34m:\u001b[0m\u001b[0;34m\u001b[0m\u001b[0;34m\u001b[0m\u001b[0m\n\u001b[1;32m    979\u001b[0m               \u001b[0;32mraise\u001b[0m\u001b[0;34m\u001b[0m\u001b[0;34m\u001b[0m\u001b[0m\n",
            "\u001b[0;31mValueError\u001b[0m: in user code:\n\n    /usr/local/lib/python3.7/dist-packages/tensorflow/python/keras/engine/training.py:1233 test_function  *\n        return step_function(self, iterator)\n    /usr/local/lib/python3.7/dist-packages/tensorflow/python/keras/engine/training.py:1224 step_function  **\n        outputs = model.distribute_strategy.run(run_step, args=(data,))\n    /usr/local/lib/python3.7/dist-packages/tensorflow/python/distribute/distribute_lib.py:1259 run\n        return self._extended.call_for_each_replica(fn, args=args, kwargs=kwargs)\n    /usr/local/lib/python3.7/dist-packages/tensorflow/python/distribute/distribute_lib.py:2730 call_for_each_replica\n        return self._call_for_each_replica(fn, args, kwargs)\n    /usr/local/lib/python3.7/dist-packages/tensorflow/python/distribute/distribute_lib.py:3417 _call_for_each_replica\n        return fn(*args, **kwargs)\n    /usr/local/lib/python3.7/dist-packages/tensorflow/python/keras/engine/training.py:1217 run_step  **\n        outputs = model.test_step(data)\n    /usr/local/lib/python3.7/dist-packages/tensorflow/python/keras/engine/training.py:1186 test_step\n        y, y_pred, sample_weight, regularization_losses=self.losses)\n    /usr/local/lib/python3.7/dist-packages/tensorflow/python/keras/engine/compile_utils.py:186 __call__\n        self.build(y_pred)\n    /usr/local/lib/python3.7/dist-packages/tensorflow/python/keras/engine/compile_utils.py:139 build\n        self._losses = nest.map_structure(self._get_loss_object, self._losses)\n    /usr/local/lib/python3.7/dist-packages/tensorflow/python/util/nest.py:659 map_structure\n        structure[0], [func(*x) for x in entries],\n    /usr/local/lib/python3.7/dist-packages/tensorflow/python/util/nest.py:659 <listcomp>\n        structure[0], [func(*x) for x in entries],\n    /usr/local/lib/python3.7/dist-packages/tensorflow/python/keras/engine/compile_utils.py:262 _get_loss_object\n        loss = losses_mod.get(loss)\n    /usr/local/lib/python3.7/dist-packages/tensorflow/python/keras/losses.py:1906 get\n        'Could not interpret loss function identifier: {}'.format(identifier))\n\n    ValueError: Could not interpret loss function identifier: 0.6110113263130188\n"
          ]
        }
      ]
    },
    {
      "cell_type": "code",
      "metadata": {
        "colab": {
          "base_uri": "https://localhost:8080/"
        },
        "id": "3ooxGeDiRSXH",
        "outputId": "5274771c-7f66-4466-bec4-ac3b6107db66"
      },
      "source": [
        "def print_my_examples(inputs, results):\n",
        "  result_for_printing = \\\n",
        "    [f'input: {inputs[i]:<30} : score: {results[i][0]:.6f}'\n",
        "                         for i in range(len(inputs))]\n",
        "  print(*result_for_printing, sep='\\n')\n",
        "  print()\n",
        "  \n",
        "examples = [\n",
        "    'this is such an amazing movie!',  # this is the same sentence tried earlier\n",
        "    'The movie was great!',\n",
        "    'The movie was meh.',\n",
        "    'The movie was okish.',\n",
        "    'The movie was terrible...'\n",
        "]\n",
        "\n",
        "\n",
        "reloaded_results = tf.sigmoid(reloaded_model(tf.constant(examples)))\n",
        "original_results = tf.sigmoid(classifier_model(tf.constant(examples)))\n",
        "\n",
        "print('Results from the reloaded model:')\n",
        "print_my_examples(examples, reloaded_results)\n",
        "print('Results from the model in memory:')\n",
        "print_my_examples(examples, original_results)"
      ],
      "execution_count": null,
      "outputs": [
        {
          "output_type": "stream",
          "text": [
            "Results from the reloaded model:\n",
            "input: this is such an amazing movie! : score: 0.996032\n",
            "input: The movie was great!           : score: 0.993145\n",
            "input: The movie was meh.             : score: 0.196019\n",
            "input: The movie was okish.           : score: 0.110063\n",
            "input: The movie was terrible...      : score: 0.007697\n",
            "\n",
            "Results from the model in memory:\n",
            "input: this is such an amazing movie! : score: 0.998181\n",
            "input: The movie was great!           : score: 0.998981\n",
            "input: The movie was meh.             : score: 0.000993\n",
            "input: The movie was okish.           : score: 0.222768\n",
            "input: The movie was terrible...      : score: 0.000417\n",
            "\n"
          ],
          "name": "stdout"
        }
      ]
    },
    {
      "cell_type": "code",
      "metadata": {
        "id": "fLWvAEwJT-My"
      },
      "source": [
        "lines_dataset = tf.data.TextLineDataset(str(myfile))\n",
        "print(next(iter(lines_dataset.take(1))))\n",
        "results = tf.sigmoid(classifier_model.predict(lines_dataset.batch(batch_size)))\n",
        "print(results)"
      ],
      "execution_count": null,
      "outputs": []
    },
    {
      "cell_type": "code",
      "metadata": {
        "colab": {
          "base_uri": "https://localhost:8080/"
        },
        "id": "OhlEqvg90aHd",
        "outputId": "4cd638c0-9877-43ff-9f5e-8e97f369df4b"
      },
      "source": [
        "results2 = tf.sigmoid(reloaded_model.predict(lines_dataset.batch(batch_size)))\n",
        "print(results2)"
      ],
      "execution_count": null,
      "outputs": [
        {
          "output_type": "stream",
          "text": [
            "tf.Tensor(\n",
            "[[0.38691592]\n",
            " [0.8024806 ]\n",
            " [0.7709689 ]\n",
            " [0.6500438 ]\n",
            " [0.3182437 ]\n",
            " [0.6506537 ]\n",
            " [0.99548125]\n",
            " [0.3402478 ]\n",
            " [0.6667965 ]\n",
            " [0.2605272 ]\n",
            " [0.4939794 ]\n",
            " [0.83960384]\n",
            " [0.4825674 ]\n",
            " [0.11023054]\n",
            " [0.36007184]\n",
            " [0.35629943]\n",
            " [0.64960307]\n",
            " [0.38863042]\n",
            " [0.77261174]\n",
            " [0.35791388]\n",
            " [0.53954065]\n",
            " [0.44354144]\n",
            " [0.18393888]\n",
            " [0.8317018 ]\n",
            " [0.81395537]\n",
            " [0.7049404 ]\n",
            " [0.76845384]\n",
            " [0.6313524 ]\n",
            " [0.19739114]\n",
            " [0.92112064]\n",
            " [0.7905381 ]\n",
            " [0.56744707]\n",
            " [0.6016736 ]\n",
            " [0.09547912]\n",
            " [0.23292476]\n",
            " [0.35812142]\n",
            " [0.70058316]\n",
            " [0.7818396 ]\n",
            " [0.4118118 ]\n",
            " [0.6277979 ]\n",
            " [0.8067163 ]\n",
            " [0.757319  ]\n",
            " [0.71468794]\n",
            " [0.7550943 ]\n",
            " [0.33279222]\n",
            " [0.66867167]\n",
            " [0.7819685 ]\n",
            " [0.40791705]\n",
            " [0.34524146]\n",
            " [0.81113225]\n",
            " [0.43421897]\n",
            " [0.6342496 ]\n",
            " [0.59536934]\n",
            " [0.704869  ]\n",
            " [0.71737164]\n",
            " [0.6606587 ]\n",
            " [0.74829197]\n",
            " [0.23277506]\n",
            " [0.65094024]\n",
            " [0.5250279 ]\n",
            " [0.85411775]\n",
            " [0.8355744 ]\n",
            " [0.7209844 ]\n",
            " [0.18108663]\n",
            " [0.5508997 ]\n",
            " [0.4461097 ]\n",
            " [0.5859261 ]\n",
            " [0.5020758 ]\n",
            " [0.64052826]\n",
            " [0.5023001 ]\n",
            " [0.69066066]\n",
            " [0.7260606 ]\n",
            " [0.21809307]\n",
            " [0.09892064]\n",
            " [0.4546096 ]\n",
            " [0.81523204]\n",
            " [0.20194182]\n",
            " [0.9206068 ]\n",
            " [0.44695678]\n",
            " [0.20194182]\n",
            " [0.7277159 ]\n",
            " [0.7206483 ]\n",
            " [0.59496176]\n",
            " [0.47616628]\n",
            " [0.75622797]\n",
            " [0.5781457 ]\n",
            " [0.8014399 ]\n",
            " [0.11204439]\n",
            " [0.6651385 ]\n",
            " [0.23410626]\n",
            " [0.12925805]\n",
            " [0.58368397]\n",
            " [0.6527636 ]\n",
            " [0.41536868]\n",
            " [0.30110058]\n",
            " [0.44549435]\n",
            " [0.5266628 ]\n",
            " [0.398528  ]\n",
            " [0.640216  ]\n",
            " [0.55549246]], shape=(100, 1), dtype=float32)\n"
          ],
          "name": "stdout"
        }
      ]
    },
    {
      "cell_type": "code",
      "metadata": {
        "colab": {
          "base_uri": "https://localhost:8080/"
        },
        "id": "iNUHVHsj0msa",
        "outputId": "953e3f7a-9021-4e6c-ac0a-044ceb54b93f"
      },
      "source": [
        "results2[0].numpy()[0]\n",
        "next(lines_dataset.as_numpy_iterator())"
      ],
      "execution_count": null,
      "outputs": [
        {
          "output_type": "execute_result",
          "data": {
            "text/plain": [
              "b'Heyy..i just wanted to know the price and if the top third one(gucci) is available for airpods 1/2?'"
            ]
          },
          "metadata": {
            "tags": []
          },
          "execution_count": 99
        }
      ]
    },
    {
      "cell_type": "code",
      "metadata": {
        "id": "CSnCYpfo0gnT"
      },
      "source": [
        "with open('output.txt', 'w') as fout:\n",
        "  for i,j in zip(lines_dataset.as_numpy_iterator(), results2):\n",
        "    # fout.write(f'{i},{j.numpy()[0]}\\n')\n",
        "    fout.write(f'{round(j.numpy()[0])},{j.numpy()[0]:.03f},{i.decode(\"utf-8\").replace(\",\",\"\")}\\n')"
      ],
      "execution_count": null,
      "outputs": []
    }
  ]
}